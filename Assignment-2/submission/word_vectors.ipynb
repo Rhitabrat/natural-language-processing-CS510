{
 "cells": [
  {
   "cell_type": "markdown",
   "metadata": {
    "id": "4Yo6zZPAR9eu"
   },
   "source": [
    "# Rhitabrat Pokharel\n",
    "## PSU ID: 970029901\n",
    "\n",
    "#### NOTE: The whole experiment is using GloVe expect the plot on Qn 2.2, which is for word2vec."
   ]
  },
  {
   "cell_type": "markdown",
   "metadata": {
    "id": "4wwniVGOEa4o"
   },
   "source": [
    "# CS410/510 HW2: Exploring Word Vectors (20 points)\n",
    "\n",
    " \n",
    "\n",
    "Please read the README.txt in the same directory as this notebook for important setup information, especially if you are running this Jupyter notebook on your local machine. \n",
    "\n",
    "\n",
    "There's also an excellent resource on Python and Numpy [tutorial](https://cs231n.github.io/python-numpy-tutorial/) that might be helpful.\n",
    "\n",
    "\n",
    "Please make sure to save the notebook as you go along. Submission Instructions are located at the bottom of the notebook.\n",
    "\n",
    "\n",
    "Acknowledgements: This homework has been modeled after Stanford's CS224n."
   ]
  },
  {
   "cell_type": "code",
   "execution_count": 37,
   "metadata": {
    "executionInfo": {
     "elapsed": 326,
     "status": "ok",
     "timestamp": 1634799827850,
     "user": {
      "displayName": "Rhitabrat Pokharel",
      "photoUrl": "https://lh3.googleusercontent.com/a-/AOh14Gh0ELoVNP-BSWgkjrF3ybR_jQmE-LxxIzjerq4P=s64",
      "userId": "10877935220118814238"
     },
     "user_tz": 420
    },
    "id": "qyfbNELlEa4u"
   },
   "outputs": [],
   "source": [
    "# All Import Statements Defined Here\n",
    "# Note: Do not add to this list.\n",
    "# ----------------\n",
    "\n",
    "import sys\n",
    "assert sys.version_info[0]==3\n",
    "assert sys.version_info[1] >= 5\n",
    "\n",
    "from gensim.models import KeyedVectors\n",
    "from gensim.test.utils import datapath\n",
    "import pprint\n",
    "import matplotlib.pyplot as plt\n",
    "plt.rcParams['figure.figsize'] = [10, 5]\n",
    "import nltk\n",
    "import numpy as np\n",
    "import random\n",
    "import scipy as sp\n",
    "from sklearn.decomposition import TruncatedSVD\n",
    "from sklearn.decomposition import PCA\n",
    "\n",
    "np.random.seed(0)\n",
    "random.seed(0)\n",
    "# ----------------"
   ]
  },
  {
   "cell_type": "markdown",
   "metadata": {
    "id": "K9MOJUOAEa4y"
   },
   "source": [
    "## Word Vectors\n",
    "\n",
    "Word Vectors are often used as a fundamental component for many downstream NLP tasks, e.g., text classification, question answering, text generation, translation, etc., so it is important to build some intuitions as to their strengths and weaknesses.\n",
    "\n",
    "The terms \"word vectors\" and \"word embeddings\" are often used interchangeably. The term \"embedding\" refers to the fact that we are encoding aspects of a word's meaning in a lower dimensional space. As [Wikipedia](https://en.wikipedia.org/wiki/Word_embedding) states, \"*conceptually it involves a mathematical embedding from a space with one dimension per word to a continuous vector space with a much lower dimension*\".\n",
    "\n",
    "\n",
    "Most word vector models start from the following idea: *You shall know a word by the company it keeps ([Firth, J. R. 1957:11](https://en.wikipedia.org/wiki/John_Rupert_Firth))*\n",
    "\n"
   ]
  },
  {
   "cell_type": "markdown",
   "metadata": {
    "id": "fmGIml7hEa45"
   },
   "source": [
    "## Loading word vectors\n",
    "\n",
    "Here, we shall explore the embeddings produced by word2vec and GloVe. \n",
    "\n",
    "First, we will explore word2vec. Later, you will replace word2vec with GloVe vectors. More information on pretrained models is here: https://radimrehurek.com/gensim/models/word2vec.html\n",
    "\n",
    "Run the following cells to load the word2vec vectors into memory. **Note**: If this is your first time to run these cells, i.e. download the embedding model, it will take a couple minutes to run. If you've run these cells before, rerunning them will load the model without redownloading it, which will take about 1 to 2 minutes."
   ]
  },
  {
   "cell_type": "code",
   "execution_count": 38,
   "metadata": {
    "executionInfo": {
     "elapsed": 319,
     "status": "ok",
     "timestamp": 1634799845232,
     "user": {
      "displayName": "Rhitabrat Pokharel",
      "photoUrl": "https://lh3.googleusercontent.com/a-/AOh14Gh0ELoVNP-BSWgkjrF3ybR_jQmE-LxxIzjerq4P=s64",
      "userId": "10877935220118814238"
     },
     "user_tz": 420
    },
    "id": "DLja5GKrEa46"
   },
   "outputs": [],
   "source": [
    "def load_embedding_model():\n",
    "    \"\"\" Load word2vec vectors\n",
    "        Return:\n",
    "            wv_from_bin: All embeddings, each lengh 300\n",
    "    \"\"\"\n",
    "    import gensim.downloader as api\n",
    "    wv_from_bin = api.load(\"glove-twitter-200\")\n",
    "    # wv_from_bin = api.load(\"word2vec-google-news-300\") #this downloads the 300-dimensional word2vec vectors trained on Google News corpus, more here: https://radimrehurek.com/gensim/models/word2vec.html\n",
    "    print(\"Loaded vocab size %i\" % len(wv_from_bin.vocab.keys()))\n",
    "    return wv_from_bin"
   ]
  },
  {
   "cell_type": "code",
   "execution_count": 39,
   "metadata": {
    "colab": {
     "base_uri": "https://localhost:8080/"
    },
    "executionInfo": {
     "elapsed": 277169,
     "status": "ok",
     "timestamp": 1634800122737,
     "user": {
      "displayName": "Rhitabrat Pokharel",
      "photoUrl": "https://lh3.googleusercontent.com/a-/AOh14Gh0ELoVNP-BSWgkjrF3ybR_jQmE-LxxIzjerq4P=s64",
      "userId": "10877935220118814238"
     },
     "user_tz": 420
    },
    "id": "lQwGrMFLEa46",
    "outputId": "f0db8737-bf04-480f-8e09-c6b9a3545b45"
   },
   "outputs": [
    {
     "name": "stdout",
     "output_type": "stream",
     "text": [
      "Loaded vocab size 1193514\n"
     ]
    }
   ],
   "source": [
    "# -----------------------------------\n",
    "# Run Cell to Load Word Vectors\n",
    "# Note: This will take a couple of minutes\n",
    "# -----------------------------------\n",
    "wv_from_bin = load_embedding_model()"
   ]
  },
  {
   "cell_type": "markdown",
   "metadata": {
    "id": "3TrnS_EYEa46"
   },
   "source": [
    "#### Note: If you are receiving a \"reset by peer\" error, rerun the cell to restart the download. "
   ]
  },
  {
   "cell_type": "markdown",
   "metadata": {
    "id": "wyBycTNdEa47"
   },
   "source": [
    "### Reducing dimensionality of Word Embeddings\n",
    "Let's visualize the word embeddings. In order to avoid running out of memory, we will work with a sample of 10000 word vectors instead. Run the following cells to:\n",
    "\n",
    "1. Put 10000 word vectors into a matrix M\n",
    "2. Run `reduce_to_k_dim` (see Q1) to reduce the vectors from 300-dimensional to 2-dimensional."
   ]
  },
  {
   "cell_type": "code",
   "execution_count": 40,
   "metadata": {
    "executionInfo": {
     "elapsed": 200,
     "status": "ok",
     "timestamp": 1634800138525,
     "user": {
      "displayName": "Rhitabrat Pokharel",
      "photoUrl": "https://lh3.googleusercontent.com/a-/AOh14Gh0ELoVNP-BSWgkjrF3ybR_jQmE-LxxIzjerq4P=s64",
      "userId": "10877935220118814238"
     },
     "user_tz": 420
    },
    "id": "ggS8BZZkEa47"
   },
   "outputs": [],
   "source": [
    "def get_matrix_of_vectors(wv_from_bin, required_words=['portland', 'pacific', 'forest', 'ocean', 'city', 'food', 'green', 'weird', 'cool', 'oregon']):\n",
    "    \"\"\" Put the word2vec vectors into a matrix M.\n",
    "        Param:\n",
    "            wv_from_bin: KeyedVectors object; the 3000000 word2vec vectors loaded from file\n",
    "        Return:\n",
    "            M: numpy matrix shape (num words, 300) containing the vectors\n",
    "            word2ind: dictionary mapping each word to its row number in M\n",
    "    \"\"\"\n",
    "    import random\n",
    "    words = list(wv_from_bin.vocab.keys())\n",
    "    print(\"Shuffling words ...\")\n",
    "    random.seed(224)\n",
    "    random.shuffle(words)\n",
    "    words = words[:10000]\n",
    "    print(\"Putting %i words into word2ind and matrix M...\" % len(words))\n",
    "    word2ind = {}\n",
    "    M = []\n",
    "    curInd = 0\n",
    "    for w in words:\n",
    "        try:\n",
    "            M.append(wv_from_bin.word_vec(w))\n",
    "            word2ind[w] = curInd\n",
    "            curInd += 1\n",
    "        except KeyError:\n",
    "            continue\n",
    "    for w in required_words:\n",
    "        if w in words:\n",
    "            continue\n",
    "        try:\n",
    "            M.append(wv_from_bin.word_vec(w))\n",
    "            word2ind[w] = curInd\n",
    "            curInd += 1\n",
    "        except KeyError:\n",
    "            continue\n",
    "    M = np.stack(M)\n",
    "    print(\"Done.\")\n",
    "    return M, word2ind"
   ]
  },
  {
   "cell_type": "markdown",
   "metadata": {
    "id": "nCRQtJrFEa42"
   },
   "source": [
    "### **Question 1**: Implement `reduce_to_k_dim` [code] (1 point)\n",
    "\n",
    "Construct a method that performs dimensionality reduction on the matrix to produce k-dimensional embeddings. Use SVD to take the top k components and produce a new matrix of k-dimensional embeddings. \n",
    "\n",
    "**Note:** All of numpy, scipy, and scikit-learn (`sklearn`) provide *some* implementation of SVD, but only scipy and sklearn provide an implementation of Truncated SVD, and only sklearn provides an efficient randomized algorithm for calculating large-scale Truncated SVD. So please use [sklearn.decomposition.TruncatedSVD](https://scikit-learn.org/stable/modules/generated/sklearn.decomposition.TruncatedSVD.html)."
   ]
  },
  {
   "cell_type": "code",
   "execution_count": 41,
   "metadata": {
    "executionInfo": {
     "elapsed": 200,
     "status": "ok",
     "timestamp": 1634800141653,
     "user": {
      "displayName": "Rhitabrat Pokharel",
      "photoUrl": "https://lh3.googleusercontent.com/a-/AOh14Gh0ELoVNP-BSWgkjrF3ybR_jQmE-LxxIzjerq4P=s64",
      "userId": "10877935220118814238"
     },
     "user_tz": 420
    },
    "id": "1UCgD1tAEa43"
   },
   "outputs": [],
   "source": [
    "def reduce_to_k_dim(M, k=2):\n",
    "    \"\"\" Reduce a co-occurence count matrix of dimensionality (num_corpus_words, num_corpus_words)\n",
    "        to a matrix of dimensionality (num_corpus_words, k) using the following SVD function from Scikit-Learn:\n",
    "            - http://scikit-learn.org/stable/modules/generated/sklearn.decomposition.TruncatedSVD.html\n",
    "    \n",
    "        Params:\n",
    "            M (numpy matrix of shape (number of unique words in the corpus , number of unique words in the corpus)): co-occurence matrix of word counts\n",
    "            k (int): embedding size of each word after dimension reduction\n",
    "        Return:\n",
    "            M_reduced (numpy matrix of shape (number of corpus words, k)): matrix of k-dimensioal word embeddings.\n",
    "                    In terms of the SVD from math class, this actually returns U * S\n",
    "    \"\"\"    \n",
    "    n_iters = 10     # Use this parameter in your call to `TruncatedSVD`\n",
    "    M_reduced = None\n",
    "    print(\"Running Truncated SVD over %i words...\" % (M.shape[0]))\n",
    "    \n",
    "    # ------------------\n",
    "    svd = TruncatedSVD(n_iter=n_iters)\n",
    "    M_reduced = svd.fit_transform(M, k)\n",
    "\n",
    "    # ------------------\n",
    "\n",
    "    print(\"Done.\")\n",
    "    return M_reduced"
   ]
  },
  {
   "cell_type": "code",
   "execution_count": 42,
   "metadata": {
    "colab": {
     "base_uri": "https://localhost:8080/"
    },
    "executionInfo": {
     "elapsed": 2360,
     "status": "ok",
     "timestamp": 1634800146820,
     "user": {
      "displayName": "Rhitabrat Pokharel",
      "photoUrl": "https://lh3.googleusercontent.com/a-/AOh14Gh0ELoVNP-BSWgkjrF3ybR_jQmE-LxxIzjerq4P=s64",
      "userId": "10877935220118814238"
     },
     "user_tz": 420
    },
    "id": "34WXjr0fEa47",
    "outputId": "29443013-47dc-4860-abeb-892a138b0109"
   },
   "outputs": [
    {
     "name": "stdout",
     "output_type": "stream",
     "text": [
      "Shuffling words ...\n",
      "Putting 10000 words into word2ind and matrix M...\n",
      "Done.\n",
      "Running Truncated SVD over 10008 words...\n",
      "Done.\n"
     ]
    }
   ],
   "source": [
    "# -----------------------------------------------------------------\n",
    "# Run Cell to Reduce 300-Dimensional Word Embeddings to k Dimensions\n",
    "# Note: This should be quick to run\n",
    "# -----------------------------------------------------------------\n",
    "M, word2ind = get_matrix_of_vectors(wv_from_bin)\n",
    "M_reduced = reduce_to_k_dim(M, k=2)\n",
    "\n"
   ]
  },
  {
   "cell_type": "markdown",
   "metadata": {
    "id": "Oi0NRtphEa4_"
   },
   "source": [
    "**Note: If you are receiving out of memory issues on your local machine, try closing other applications to free more memory on your device. You may want to try restarting your machine so that you can free up extra memory. Then immediately run the jupyter notebook and see if you can load the word vectors properly. Or, try using Colab."
   ]
  },
  {
   "cell_type": "markdown",
   "metadata": {
    "id": "f9cQzntDEa43"
   },
   "source": [
    "### **Question 2.1**: Implement `plot_embeddings` [code] (2 points)\n",
    "\n",
    "Here you will write a function to plot a set of 2D vectors in 2D space. For graphs, we will use Matplotlib (`plt`).\n",
    "\n",
    "For this example, you may find it useful to adapt [this code](http://web.archive.org/web/20190924160434/https://www.pythonmembers.club/2018/05/08/matplotlib-scatter-plot-annotate-set-text-at-label-each-point/). In the future, a good way to make a plot is to look at [the Matplotlib gallery](https://matplotlib.org/gallery/index.html), find a plot that looks somewhat like what you want, and adapt the code they give."
   ]
  },
  {
   "cell_type": "code",
   "execution_count": 43,
   "metadata": {
    "executionInfo": {
     "elapsed": 200,
     "status": "ok",
     "timestamp": 1634800150406,
     "user": {
      "displayName": "Rhitabrat Pokharel",
      "photoUrl": "https://lh3.googleusercontent.com/a-/AOh14Gh0ELoVNP-BSWgkjrF3ybR_jQmE-LxxIzjerq4P=s64",
      "userId": "10877935220118814238"
     },
     "user_tz": 420
    },
    "id": "-xoUkY-mEa44"
   },
   "outputs": [],
   "source": [
    "def plot_embeddings(M_reduced, word2ind, words):\n",
    "    \"\"\" Plot in a scatterplot the embeddings of the words specified in the list \"words\".\n",
    "        NOTE: do not plot all the words listed in M_reduced / word2ind.\n",
    "        Include a label next to each point.\n",
    "        \n",
    "        Params:\n",
    "            M_reduced (numpy matrix of shape (number of unique words in the corpus , 2)): matrix of 2-dimensional word embeddings\n",
    "            word2ind (dict): dictionary that maps word to indices for matrix M\n",
    "            words (list of strings): words whose embeddings we want to visualize\n",
    "    \"\"\"\n",
    "\n",
    "    # ------------------\n",
    "\n",
    "    types = words\n",
    "    indices = [word2ind[x] for x in words]\n",
    "    x_coords = M_reduced[indices][:,0]\n",
    "    y_coords = M_reduced[indices][:,1]\n",
    "\n",
    "    for i,type in enumerate(types):\n",
    "        x = x_coords[i]\n",
    "        y = y_coords[i]\n",
    "        plt.scatter(x, y, marker='x', color='blue')\n",
    "        plt.text(x+0.005, y+0.005, type, fontsize=9)\n",
    "    plt.show()\n",
    "\n",
    "    # ------------------"
   ]
  },
  {
   "cell_type": "markdown",
   "metadata": {
    "id": "mn5hLXNEEa4_"
   },
   "source": [
    "### **Question 2.2**: word2vec Plot Analysis [written] (3 points)\n",
    "\n",
    "Run the cell below to plot the 2D word2vec embeddings for `['portland', 'pacific', 'forest', 'ocean', 'city', 'food', 'green', 'weird', 'cool', 'oregon']`.\n",
    "\n",
    "What clusters together in 2-dimensional embedding space? What doesn't cluster together that you think should have?"
   ]
  },
  {
   "cell_type": "code",
   "execution_count": 33,
   "metadata": {
    "colab": {
     "base_uri": "https://localhost:8080/",
     "height": 320
    },
    "executionInfo": {
     "elapsed": 596,
     "status": "ok",
     "timestamp": 1634799243215,
     "user": {
      "displayName": "Rhitabrat Pokharel",
      "photoUrl": "https://lh3.googleusercontent.com/a-/AOh14Gh0ELoVNP-BSWgkjrF3ybR_jQmE-LxxIzjerq4P=s64",
      "userId": "10877935220118814238"
     },
     "user_tz": 420
    },
    "id": "ZGmbcCvPEa4_",
    "outputId": "052b3d2b-4c11-44a4-ad9c-3ca10fbe0266",
    "scrolled": true
   },
   "outputs": [
    {
     "data": {
      "image/png": "[encoded data removed]",
      "text/plain": [
       "<Figure size 720x360 with 1 Axes>"
      ]
     },
     "metadata": {
      "needs_background": "light"
     },
     "output_type": "display_data"
    }
   ],
   "source": [
    "words = ['portland', 'pacific', 'forest', 'ocean', 'city', 'food', 'green', 'weird', 'cool', 'oregon']\n",
    "plot_embeddings(M_reduced, word2ind, words)"
   ]
  },
  {
   "cell_type": "markdown",
   "metadata": {
    "id": "be-gXaPWEa4_"
   },
   "source": [
    "#### <font color=\"red\">Write your answer here.</font>\n",
    "\n",
    "What clusters together in 2-dimensional embedding space?\n",
    "* `weird` and `forest` appear to be close to eachother, which might be because of people have found forest to be weird and they used `weird` to descirbe `forest`.\n",
    "* `portland` and `oregon` are clustered together, which makes sense.\n",
    "* All other entities are scattered around the space.\n",
    "\n",
    "What doesn't cluster together that you think should have?\n",
    "* I believe `city` should also have been grouped along with `portland` and `oregon` yet it is on the opposite corner.\n",
    "* `green` could have gone with `forest` or `oregon` or `city`\n",
    "* `pacific` could have goouped with `ocean`.\n",
    "\n",
    "\n",
    "\n",
    "\n",
    "\n"
   ]
  },
  {
   "cell_type": "markdown",
   "metadata": {
    "id": "InBKs2UDbjw9"
   },
   "source": [
    "### **Question 2.3**: GloVe Twitter Plot Analysis [written] (3 points)\n",
    "\n",
    "\n",
    "In Section **Loading word vectors**, replace word2vec embeddings with GloVe Twitter 200-dimensional embeddings ''glove-twitter-200', and run all the cells again. \n",
    "\n",
    "And then run the cell below. What differences do you see in the GloVe embeddings as compared to word2vec embeddings?"
   ]
  },
  {
   "cell_type": "code",
   "execution_count": 44,
   "metadata": {
    "colab": {
     "base_uri": "https://localhost:8080/",
     "height": 320
    },
    "executionInfo": {
     "elapsed": 420,
     "status": "ok",
     "timestamp": 1634800155136,
     "user": {
      "displayName": "Rhitabrat Pokharel",
      "photoUrl": "https://lh3.googleusercontent.com/a-/AOh14Gh0ELoVNP-BSWgkjrF3ybR_jQmE-LxxIzjerq4P=s64",
      "userId": "10877935220118814238"
     },
     "user_tz": 420
    },
    "id": "uQLH4wJQbkYu",
    "outputId": "271a74db-6c99-450e-a27a-9e0ac6a10fdf"
   },
   "outputs": [
    {
     "data": {
      "image/png": "[encoded data removed]",
      "text/plain": [
       "<Figure size 720x360 with 1 Axes>"
      ]
     },
     "metadata": {
      "needs_background": "light"
     },
     "output_type": "display_data"
    }
   ],
   "source": [
    "words = ['portland', 'pacific', 'forest', 'ocean', 'city', 'food', 'green', 'weird', 'cool', 'oregon']\n",
    "plot_embeddings(M_reduced, word2ind, words)"
   ]
  },
  {
   "cell_type": "markdown",
   "metadata": {
    "id": "a_aBTDXFcedw"
   },
   "source": [
    "#### <font color=\"red\">Write your answer here.</font>\n",
    "\n",
    "<font color=\"green\"></font>\n",
    "\n",
    "* `portland` and `oregon` are clustered closer in GloVe and that in word2vec.\n",
    "* Unlike word2vec, `city` is closer to `food` and `cool` which makes more sense.\n",
    "\n",
    "Overall, GloVe seems to have performed better than word2vec because the related entities are placed closer."
   ]
  },
  {
   "cell_type": "markdown",
   "metadata": {
    "id": "3qy8DRwJcz-7"
   },
   "source": [
    "### **Note: For the following sections, you may choose to continue with GloVe embeddings, or reload the word2vec vectors.**\n",
    "\n",
    "---\n",
    "\n",
    "\n"
   ]
  },
  {
   "cell_type": "code",
   "execution_count": 45,
   "metadata": {
    "colab": {
     "base_uri": "https://localhost:8080/"
    },
    "executionInfo": {
     "elapsed": 229,
     "status": "ok",
     "timestamp": 1634800162798,
     "user": {
      "displayName": "Rhitabrat Pokharel",
      "photoUrl": "https://lh3.googleusercontent.com/a-/AOh14Gh0ELoVNP-BSWgkjrF3ybR_jQmE-LxxIzjerq4P=s64",
      "userId": "10877935220118814238"
     },
     "user_tz": 420
    },
    "id": "ztIao7Rp6dfH",
    "outputId": "ada4b827-c0fa-49fe-de48-20f00731539c"
   },
   "outputs": [
    {
     "name": "stdout",
     "output_type": "stream",
     "text": [
      "Drive already mounted at /content/drive; to attempt to forcibly remount, call drive.mount(\"/content/drive\", force_remount=True).\n"
     ]
    }
   ],
   "source": [
    "from google.colab import drive\n",
    "drive.mount('/content/drive')"
   ]
  },
  {
   "cell_type": "markdown",
   "metadata": {
    "id": "LVgqm_qmEa5A"
   },
   "source": [
    "### Cosine Similarity\n",
    "Now that we have word vectors, we need a way to quantify the similarity between individual words, according to these vectors. One such metric is cosine-similarity. We will be using this to find words that are \"close\" and \"far\" from one another.\n",
    "\n",
    "We can think of n-dimensional vectors as points in n-dimensional space. If we take this perspective [L1](http://mathworld.wolfram.com/L1-Norm.html) and [L2](http://mathworld.wolfram.com/L2-Norm.html) Distances help quantify the amount of space \"we must travel\" to get between these two points. Another approach is to examine the angle between two vectors. From trigonometry we know that:\n",
    "\n",
    "<img src=\"https://i.ibb.co/87Qscqh/inner-product.png\" alt=\"inner-product\" border=\"0\">\n",
    "\n",
    "Instead of computing the actual angle, we can compute the similarity in terms of $similarity = cos(\\Theta)$. Formally the [Cosine Similarity](https://en.wikipedia.org/wiki/Cosine_similarity) $s$ between two vectors $p$ and $q$ is defined as:\n",
    "\n",
    "$$s = \\frac{p \\cdot q}{||p|| ||q||}, \\textrm{ where } s \\in [-1, 1] $$ "
   ]
  },
  {
   "cell_type": "markdown",
   "metadata": {
    "id": "K13H1DFHEa5A"
   },
   "source": [
    "### **Question 3.1**: Words with Multiple Meanings  [code + written] (2 points)\n",
    "Polysemes and homonyms are words that have more than one meaning (see this [wiki page](https://en.wikipedia.org/wiki/Polysemy) to learn more about the difference between polysemes and homonyms ). Find a word with *at least two different meanings* such that the top-10 most similar words (according to cosine similarity) contain related words from *both* meanings. For example, \"leaves\" has both \"go_away\" and \"a_structure_of_a_plant\" meaning in the top 10, and \"scoop\" has both \"handed_waffle_cone\" and \"lowdown\". You will probably need to try several polysemous or homonymic words before you find one. \n",
    "\n",
    "Please state the word you discover and the multiple meanings that occur in the top 10. Why do you think many of the polysemous or homonymic words you tried didn't work (i.e. the top-10 most similar words only contain **one** of the meanings of the words)?\n",
    "\n",
    "**Note**: You should use the `wv_from_bin.most_similar(word)` function to get the top 10 similar words. This function ranks all other words in the vocabulary with respect to their cosine similarity to the given word. For further assistance, please check the __[GenSim documentation](https://radimrehurek.com/gensim/models/keyedvectors.html#gensim.models.keyedvectors.FastTextKeyedVectors.most_similar)__."
   ]
  },
  {
   "cell_type": "code",
   "execution_count": 46,
   "metadata": {
    "colab": {
     "base_uri": "https://localhost:8080/"
    },
    "executionInfo": {
     "elapsed": 2028,
     "status": "ok",
     "timestamp": 1634800166371,
     "user": {
      "displayName": "Rhitabrat Pokharel",
      "photoUrl": "https://lh3.googleusercontent.com/a-/AOh14Gh0ELoVNP-BSWgkjrF3ybR_jQmE-LxxIzjerq4P=s64",
      "userId": "10877935220118814238"
     },
     "user_tz": 420
    },
    "id": "ixC2fCG6Ea5A",
    "outputId": "c062e994-38f8-46e0-b8d8-d70b12dca224"
   },
   "outputs": [
    {
     "data": {
      "text/plain": [
       "[('website', 0.70011305809021),\n",
       " ('blog', 0.686927318572998),\n",
       " ('site', 0.6789528727531433),\n",
       " ('software', 0.6619877815246582),\n",
       " ('internet', 0.6602414846420288),\n",
       " ('online', 0.652936577796936),\n",
       " ('mobile', 0.6490216255187988),\n",
       " ('marketing', 0.6465798020362854),\n",
       " ('google', 0.6382794380187988),\n",
       " ('social', 0.6261212825775146)]"
      ]
     },
     "execution_count": 46,
     "metadata": {},
     "output_type": "execute_result"
    }
   ],
   "source": [
    "# ------------------\n",
    "\n",
    "wv_from_bin.most_similar('web')\n",
    "\n",
    "# ------------------"
   ]
  },
  {
   "cell_type": "markdown",
   "metadata": {
    "id": "60AEbKqdEa5A"
   },
   "source": [
    "#### <font color=\"red\">Write your answer here.</font>\n",
    "\n",
    "<font color=\"green\"></font>\n",
    "\n",
    "* The meaning of `web` is related to more than 2 words on the list - `website`, `internet`, `google`, `social`, `mobile`, `online`\n",
    "\n",
    "Why do you think many of the polysemous or homonymic words you tried didn't work?\n",
    "* Actually I got the right word `web` at my first attempt, which is great.\n",
    "* However, I tried other polysemous/homonymic words and they did not work. In my opinion, the reason for this might be that the corpus used to create the model does not have the these words used for differnet context and even if they have been used, their usage might be very rare."
   ]
  },
  {
   "cell_type": "markdown",
   "metadata": {
    "id": "Mz1P4SYGEa5A"
   },
   "source": [
    "### **Question 3.2**: Synonyms & Antonyms  [code + written] (2 points)\n",
    "\n",
    "When considering Cosine Similarity, it's often more convenient to think of Cosine Distance, which is simply 1 - Cosine Similarity.\n",
    "\n",
    "Find three words $(w_1,w_2,w_3)$ where $w_1$ and $w_2$ are synonyms and $w_1$ and $w_3$ are antonyms, but Cosine Distance $(w_1,w_3) <$ Cosine Distance $(w_1,w_2)$. \n",
    "\n",
    "As an example, $w_1$=\"happy\" is closer to $w_3$=\"sad\" than to $w_2$=\"excited\". Please find a different example that satisfies the above. Once you have found your example, please give a possible explanation for why this counter-intuitive result may have happened.\n",
    "\n",
    "You should use the the `wv_from_bin.distance(w1, w2)` function here in order to compute the cosine distance between two words. Please see the __[GenSim documentation](https://radimrehurek.com/gensim/models/keyedvectors.html#gensim.models.keyedvectors.FastTextKeyedVectors.distance)__ for further assistance."
   ]
  },
  {
   "cell_type": "code",
   "execution_count": 47,
   "metadata": {
    "colab": {
     "base_uri": "https://localhost:8080/"
    },
    "executionInfo": {
     "elapsed": 309,
     "status": "ok",
     "timestamp": 1634800169691,
     "user": {
      "displayName": "Rhitabrat Pokharel",
      "photoUrl": "https://lh3.googleusercontent.com/a-/AOh14Gh0ELoVNP-BSWgkjrF3ybR_jQmE-LxxIzjerq4P=s64",
      "userId": "10877935220118814238"
     },
     "user_tz": 420
    },
    "id": "FFrMO2Y0Ea5B",
    "outputId": "87e1887e-3fca-44e1-a694-96055f403263"
   },
   "outputs": [
    {
     "name": "stdout",
     "output_type": "stream",
     "text": [
      "Cosine Distance between w1 and w2:  0.6874304413795471\n",
      "Cosine Distance between w1 and w3:  0.5049524009227753\n"
     ]
    }
   ],
   "source": [
    "# ------------------\n",
    "    \n",
    "w1 = 'known'\n",
    "w2 = 'familiar'\n",
    "w3 = 'unknown'\n",
    "\n",
    "print('Cosine Distance between w1 and w2: ', wv_from_bin.distance(w1, w2))\n",
    "print('Cosine Distance between w1 and w3: ', wv_from_bin.distance(w1, w3))\n",
    "\n",
    "# ------------------"
   ]
  },
  {
   "cell_type": "markdown",
   "metadata": {
    "id": "Dt6_Rsd9Ea5B"
   },
   "source": [
    "#### <font color=\"red\">Write your answer here.</font>\n",
    "\n",
    "<font color=\"green\"></font>\n",
    "\n",
    "I can see that the consine similarity is more for the antonyms than for the corresponding synonyms. One of the reasons may be that the antonyms are used in the same context more frequently than the snyonyms in a same context."
   ]
  },
  {
   "cell_type": "markdown",
   "metadata": {
    "id": "tAC9BXocEa5B"
   },
   "source": [
    "### **Question 3.3**: Analogies with Word Vectors [written] (1 point)\n",
    "Word vectors have been shown to *sometimes* exhibit the ability to solve analogies. \n",
    "\n",
    "As an example, for the analogy \"man : king :: woman : x\" (read: man is to king as woman is to x), what is x?\n",
    "\n",
    "In the cell below, we show you how to use word vectors to find x using the `most_similar` function from the __[GenSim documentation](https://radimrehurek.com/gensim/models/keyedvectors.html#gensim.models.keyedvectors.KeyedVectors.most_similar)__. The function finds words that are most similar to the words in the `positive` list and most dissimilar from the words in the `negative` list (while omitting the input words, which are often the most similar; see [this paper](https://www.aclweb.org/anthology/N18-2039.pdf)). The answer to the analogy will have the highest cosine similarity (largest returned numerical value)."
   ]
  },
  {
   "cell_type": "code",
   "execution_count": 48,
   "metadata": {
    "colab": {
     "base_uri": "https://localhost:8080/"
    },
    "executionInfo": {
     "elapsed": 20,
     "status": "ok",
     "timestamp": 1634800169952,
     "user": {
      "displayName": "Rhitabrat Pokharel",
      "photoUrl": "https://lh3.googleusercontent.com/a-/AOh14Gh0ELoVNP-BSWgkjrF3ybR_jQmE-LxxIzjerq4P=s64",
      "userId": "10877935220118814238"
     },
     "user_tz": 420
    },
    "id": "uAXr6Ob6Ea5B",
    "outputId": "3b125bae-dbf3-4324-ade5-9bc64dcb9f68"
   },
   "outputs": [
    {
     "name": "stdout",
     "output_type": "stream",
     "text": [
      "[('queen', 0.6820898056030273),\n",
      " ('prince', 0.5875527262687683),\n",
      " ('princess', 0.5620489120483398),\n",
      " ('royal', 0.5522865056991577),\n",
      " ('mother', 0.5362966656684875),\n",
      " ('elizabeth', 0.5142495632171631),\n",
      " ('lady', 0.5010437369346619),\n",
      " ('lion', 0.4998807907104492),\n",
      " ('women', 0.4985954761505127),\n",
      " ('’s', 0.49350738525390625)]\n"
     ]
    }
   ],
   "source": [
    "# Run this cell to answer the analogy -- man : king :: woman : x\n",
    "pprint.pprint(wv_from_bin.most_similar(positive=['woman', 'king'], negative=['man']))"
   ]
  },
  {
   "cell_type": "markdown",
   "metadata": {
    "id": "2AaXChc8Ea5B"
   },
   "source": [
    "Let $m$, $k$, $w$, and $x$ denote the word vectors for `man`, `king`, `woman`, and the answer, respectively. Using **only** vectors $m$, $k$, $w$, and the vector arithmetic operators $+$ and $-$ in your answer, what is the expression in which we are maximizing cosine similarity with $x$?\n",
    "\n",
    "Hint: Recall that word vectors are simply multi-dimensional vectors that represent a word. It might help to draw out a 2D example using arbitrary locations of each vector. Where would `man` and `woman` lie in the coordinate plane relative to `king` and the answer?"
   ]
  },
  {
   "cell_type": "markdown",
   "metadata": {
    "id": "96xSgT0xEa5B"
   },
   "source": [
    "#### <font color=\"red\">Write your answer here.</font>\n",
    "\n",
    "<font color=\"green\"></font>\n",
    "\n",
    "king - man + woman = queen"
   ]
  },
  {
   "cell_type": "markdown",
   "metadata": {
    "id": "XWzOOni_Ea5C"
   },
   "source": [
    "### **Question 3.4**: Finding Analogies [code + written]  (1 point)\n",
    "Find an example of analogy that holds according to these vectors (i.e. the intended word is ranked top). In your solution please state the full analogy in the form x:y :: a:b. If you believe the analogy is complicated, explain why the analogy holds in one or two sentences.\n",
    "\n",
    "**Note**: You may have to try many analogies to find one that works!"
   ]
  },
  {
   "cell_type": "code",
   "execution_count": 49,
   "metadata": {
    "colab": {
     "base_uri": "https://localhost:8080/"
    },
    "executionInfo": {
     "elapsed": 202,
     "status": "ok",
     "timestamp": 1634800171055,
     "user": {
      "displayName": "Rhitabrat Pokharel",
      "photoUrl": "https://lh3.googleusercontent.com/a-/AOh14Gh0ELoVNP-BSWgkjrF3ybR_jQmE-LxxIzjerq4P=s64",
      "userId": "10877935220118814238"
     },
     "user_tz": 420
    },
    "id": "PsRr1OwNEa5C",
    "outputId": "6c308481-aa9c-47bd-8de0-c1db8e3311b5"
   },
   "outputs": [
    {
     "name": "stdout",
     "output_type": "stream",
     "text": [
      "[('slow', 0.4855552017688751),\n",
      " ('quick', 0.46724921464920044),\n",
      " ('faster', 0.45864337682724),\n",
      " ('easy', 0.45563268661499023),\n",
      " ('turtles', 0.4447053372859955),\n",
      " ('back', 0.43254730105400085),\n",
      " ('smart', 0.42797502875328064),\n",
      " ('quickly', 0.42690128087997437),\n",
      " ('like', 0.4204716682434082),\n",
      " ('life', 0.41988658905029297)]\n"
     ]
    }
   ],
   "source": [
    "# ------------------\n",
    "\n",
    "pprint.pprint(wv_from_bin.most_similar(positive=['turtle', 'fast'], negative=['deer']))\n",
    "\n",
    "# ------------------"
   ]
  },
  {
   "cell_type": "markdown",
   "metadata": {
    "id": "O3GXxOLVEa5C"
   },
   "source": [
    "#### <font color=\"red\">Write your answer here.</font>\n",
    "\n",
    "<font color=\"green\"></font>\n",
    "\n",
    "```\n",
    "x:y :: a:b = deer:fast ::  turtle:slow\n",
    "```\n",
    "\n",
    "I think it makes sense (not complicated)."
   ]
  },
  {
   "cell_type": "markdown",
   "metadata": {
    "id": "8fXaqGFaEa5C"
   },
   "source": [
    "### **Question 3.5**: Incorrect Analogy [code + written] (1 point)\n",
    "Find an example of analogy that does *not* hold according to these vectors. In your solution, state the intended analogy in the form x:y :: a:b, and state the (incorrect) value of b according to the word vectors."
   ]
  },
  {
   "cell_type": "code",
   "execution_count": 50,
   "metadata": {
    "colab": {
     "base_uri": "https://localhost:8080/"
    },
    "executionInfo": {
     "elapsed": 542,
     "status": "ok",
     "timestamp": 1634800172570,
     "user": {
      "displayName": "Rhitabrat Pokharel",
      "photoUrl": "https://lh3.googleusercontent.com/a-/AOh14Gh0ELoVNP-BSWgkjrF3ybR_jQmE-LxxIzjerq4P=s64",
      "userId": "10877935220118814238"
     },
     "user_tz": 420
    },
    "id": "wA2zwxtTEa5C",
    "outputId": "82edc1e1-f34b-4f36-fa5a-ce10d67e15cf"
   },
   "outputs": [
    {
     "name": "stdout",
     "output_type": "stream",
     "text": [
      "[('taylor', 0.6249005198478699),\n",
      " ('adele', 0.572992205619812),\n",
      " ('sheeran', 0.5592507719993591),\n",
      " ('miley', 0.5256857872009277),\n",
      " ('cyrus', 0.5229346752166748),\n",
      " ('ariana', 0.514667272567749),\n",
      " ('selena', 0.5076854228973389),\n",
      " ('rihanna', 0.4953581988811493),\n",
      " ('styles', 0.49425625801086426),\n",
      " ('carly', 0.48902207612991333)]\n"
     ]
    }
   ],
   "source": [
    "# ------------------\n",
    "\n",
    "pprint.pprint(wv_from_bin.most_similar(positive=['turtle', 'swift'], negative=['deer']))\n",
    "\n",
    "# ------------------"
   ]
  },
  {
   "cell_type": "markdown",
   "metadata": {
    "id": "th9u3Mf2Ea5C"
   },
   "source": [
    "#### <font color=\"red\">Write your answer here.</font>\n",
    "\n",
    "<font color=\"green\"></font>\n",
    "\n",
    "```\n",
    "x:y :: a:b = deer:swift ::  turtle:taylor\n",
    "```\n",
    "\n",
    "I am not sure if I should say this an incorrect analogy.\n",
    "\n",
    "Actually my expectation was as deer is to swift, turtle is to slow/sluggish or somthing slowish. But, I got 'taylor'."
   ]
  },
  {
   "cell_type": "markdown",
   "metadata": {
    "id": "xqCf3SHMEa5D"
   },
   "source": [
    "### **Question 3.6**: Guided Analysis of Bias in Word Vectors [written] (1 point)\n",
    "\n",
    "It's important to be cognizant of the biases (gender, race, sexual orientation etc.) implicit in our word embeddings. Bias can be dangerous because it can reinforce stereotypes through applications that employ these models.\n",
    "\n",
    "Run the cell below, to examine (a) which terms are most similar to \"woman\" and \"worker\" and most dissimilar to \"man\", and (b) which terms are most similar to \"man\" and \"worker\" and most dissimilar to \"woman\". Point out the difference between the list of female-associated words and the list of male-associated words, and explain how it is reflecting gender bias."
   ]
  },
  {
   "cell_type": "code",
   "execution_count": 51,
   "metadata": {
    "colab": {
     "base_uri": "https://localhost:8080/"
    },
    "executionInfo": {
     "elapsed": 503,
     "status": "ok",
     "timestamp": 1634800174744,
     "user": {
      "displayName": "Rhitabrat Pokharel",
      "photoUrl": "https://lh3.googleusercontent.com/a-/AOh14Gh0ELoVNP-BSWgkjrF3ybR_jQmE-LxxIzjerq4P=s64",
      "userId": "10877935220118814238"
     },
     "user_tz": 420
    },
    "id": "67-UyfoEEa5D",
    "outputId": "c77ae665-7111-4737-c1da-d9c0140e3eb7"
   },
   "outputs": [
    {
     "name": "stdout",
     "output_type": "stream",
     "text": [
      "[('workers', 0.6558226943016052),\n",
      " ('employee', 0.6185225248336792),\n",
      " ('employees', 0.5715725421905518),\n",
      " ('harassment', 0.479827880859375),\n",
      " ('officer', 0.47716623544692993),\n",
      " ('customer', 0.4707619547843933),\n",
      " ('nurse', 0.4612693190574646),\n",
      " ('receptionist', 0.46062037348747253),\n",
      " ('representative', 0.45838046073913574),\n",
      " ('nurses', 0.4579216539859772)]\n",
      "\n",
      "[('workers', 0.5465855002403259),\n",
      " ('manager', 0.49535703659057617),\n",
      " ('job', 0.4911527633666992),\n",
      " ('vet', 0.4808799624443054),\n",
      " ('staff', 0.4772389531135559),\n",
      " ('employee', 0.46296143531799316),\n",
      " ('officer', 0.45800548791885376),\n",
      " ('was', 0.44496333599090576),\n",
      " ('wages', 0.44081079959869385),\n",
      " ('construction', 0.4403908848762512)]\n"
     ]
    }
   ],
   "source": [
    "# Run this cell\n",
    "# Here `positive` indicates the list of words to be similar to and `negative` indicates the list of words to be\n",
    "# most dissimilar from.\n",
    "pprint.pprint(wv_from_bin.most_similar(positive=['woman', 'worker'], negative=['man']))\n",
    "print()\n",
    "pprint.pprint(wv_from_bin.most_similar(positive=['man', 'worker'], negative=['woman']))"
   ]
  },
  {
   "cell_type": "markdown",
   "metadata": {
    "id": "_3TsG0JTEa5D"
   },
   "source": [
    "#### <font color=\"red\">Write your answer here.</font>\n",
    "\n",
    "<font color=\"green\"></font>\n",
    "\n",
    "I can see different results for male-associated words and female-associated words. The model does not expect woman to be `manager`, `staff`, `officer` or `employee` and man to be `nurse`, `receptionist`, `customer`, or `harassment`. This shows that the model does not want man to be a `nurse`, and woman to be a `manager`. In real world, these jobs are not essentially assigned for male or female. This shows that the model is a gender biased model."
   ]
  },
  {
   "cell_type": "markdown",
   "metadata": {
    "id": "eQxVwuRxEa5D"
   },
   "source": [
    "### **Question 3.7**: Independent Analysis of Bias in Word Vectors [code + written]  (1 point)\n",
    "\n",
    "Use the `most_similar` function to find another case where some bias is exhibited by the vectors. Please briefly explain the example of bias that you discover."
   ]
  },
  {
   "cell_type": "markdown",
   "metadata": {
    "id": "qE7HsanwY386"
   },
   "source": [
    "<b><font color=\"red\">Disclaimer: Disturbing content ahead</font></b>"
   ]
  },
  {
   "cell_type": "code",
   "execution_count": 52,
   "metadata": {
    "colab": {
     "base_uri": "https://localhost:8080/"
    },
    "executionInfo": {
     "elapsed": 562,
     "status": "ok",
     "timestamp": 1634800177134,
     "user": {
      "displayName": "Rhitabrat Pokharel",
      "photoUrl": "https://lh3.googleusercontent.com/a-/AOh14Gh0ELoVNP-BSWgkjrF3ybR_jQmE-LxxIzjerq4P=s64",
      "userId": "10877935220118814238"
     },
     "user_tz": 420
    },
    "id": "pHhONBaPEa5D",
    "outputId": "6cd3630d-f56f-4f21-f87b-33ec4be2609c"
   },
   "outputs": [
    {
     "name": "stdout",
     "output_type": "stream",
     "text": [
      "[('cash', 0.6941454410552979),\n",
      " ('bitch', 0.6781004667282104),\n",
      " ('shit', 0.6571056842803955),\n",
      " ('fuck', 0.6553544402122498),\n",
      " ('pay', 0.6389952301979065),\n",
      " ('bitches', 0.6353094577789307),\n",
      " ('get', 0.6293692588806152),\n",
      " ('bad', 0.622443437576294),\n",
      " ('need', 0.6195367574691772),\n",
      " ('work', 0.6172423958778381)]\n",
      "\n",
      "[('cash', 0.6942598819732666),\n",
      " ('paid', 0.6410634517669678),\n",
      " ('pay', 0.6364431381225586),\n",
      " ('wealth', 0.6071423292160034),\n",
      " ('rich', 0.5948802828788757),\n",
      " ('him', 0.5929766893386841),\n",
      " ('paying', 0.5899202227592468),\n",
      " ('dollars', 0.5775666236877441),\n",
      " ('spend', 0.5769830942153931),\n",
      " ('future', 0.5666353702545166)]\n"
     ]
    }
   ],
   "source": [
    "# ------------------\n",
    "\n",
    "pprint.pprint(wv_from_bin.most_similar(positive=['mother', 'money'], negative=['father']))\n",
    "print()\n",
    "pprint.pprint(wv_from_bin.most_similar(positive=['father', 'money'], negative=['mother']))\n",
    "\n",
    "# ------------------"
   ]
  },
  {
   "cell_type": "markdown",
   "metadata": {
    "id": "i8uB_wEHEa5E"
   },
   "source": [
    "#### <font color=\"red\">Write your answer here.</font>\n",
    "\n",
    "<font color=\"green\"></font>\n",
    "\n",
    "I discovered that the model is too biased towards the role of `mother` and `father` regarding `money`. `mother` is associated with negative slangs whereas `father` is associated with paying positive things like `paying`, `wealth`, `rich`, and `future`."
   ]
  },
  {
   "cell_type": "markdown",
   "metadata": {
    "id": "RDtHxopvEa5E"
   },
   "source": [
    "### **Question 3.8**: Thinking About Bias [written] (2 points)\n",
    "\n",
    "Give one explanation of how bias gets into the word vectors. What is an experiment that you could do to test for or to measure this source of bias?"
   ]
  },
  {
   "cell_type": "markdown",
   "metadata": {
    "id": "Bpzs1zRuEa5E"
   },
   "source": [
    "#### <font color=\"red\">Write your answer here.</font>\n",
    "\n",
    "<font color=\"green\"></font>\n",
    "\n",
    "Give one explanation of how bias gets into the word vectors.\n",
    "* This is obviously because of the corpus used to build the model, and the corpus comes form the based society.\n",
    "\n",
    "What is an experiment that you could do to test for or to measure this source of bias?\n",
    "* Present the corpus to the people of different background and ask them if the data is biased for them."
   ]
  },
  {
   "cell_type": "markdown",
   "metadata": {
    "id": "tIjgFwuOEa5E"
   },
   "source": [
    "# <font color=\"blue\"> Submission Instructions</font>\n",
    "\n",
    "When you are satified with your results, you can submit this assignment by doing the following:\n",
    "\n",
    "1. Click the Save button at the top of the Jupyter Notebook.\n",
    "\n",
    "2. Add your name and PSU ID # at the top.\n",
    "\n",
    "3. **For Colab**: \n",
    "\n",
    "(i) Select *Edit > Clear All Outputs*.\n",
    "\n",
    "(ii) Click *Runtime > Restart and Run All*.\n",
    "\n",
    "\n",
    "(iii) Click *File > Print* and print to PDF. Name the file hw#_[odin_userid].pdf (for example Homework 1 for John Doe might be hw1_jdoe.pdf)\n",
    "   \n",
    "3. **For Jupyter running on local machine**:\n",
    "\n",
    "(i) Select *Cell -> All Output -> Clear*. This will clear all the outputs from all cells (but will keep the content of all cells).\n",
    "\n",
    "(ii) Select *Cell -> Run All*. This will run all the cells in order, and will take several minutes.\n",
    "\n",
    "(iii) Once you've rerun everything, select *File -> Download as -> PDF via LaTeX*.\n",
    "\n",
    "\n",
    "4. Look at the PDF file and make sure all your solutions are there, displayed correctly.\n",
    "\n",
    "5. Also download your .ipynb.\n",
    "\n",
    "5. Submit both the PDF file and the Jupyter notebook (.ipynb) on D2L under *Activities > Assignment* under the appropriate assignment."
   ]
  },
  {
   "cell_type": "code",
   "execution_count": null,
   "metadata": {
    "id": "9D8KpalPaLpb"
   },
   "outputs": [],
   "source": []
  }
 ],
 "metadata": {
  "anaconda-cloud": {},
  "colab": {
   "collapsed_sections": [],
   "name": "word_vectors.ipynb",
   "provenance": []
  },
  "kernelspec": {
   "display_name": "Python 3 (ipykernel)",
   "language": "python",
   "name": "python3"
  },
  "language_info": {
   "codemirror_mode": {
    "name": "ipython",
    "version": 3
   },
   "file_extension": ".py",
   "mimetype": "text/x-python",
   "name": "python",
   "nbconvert_exporter": "python",
   "pygments_lexer": "ipython3",
   "version": "3.9.5"
  }
 },
 "nbformat": 4,
 "nbformat_minor": 1
}
